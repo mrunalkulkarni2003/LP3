{
 "cells": [
  {
   "cell_type": "code",
   "execution_count": 1,
   "id": "60a6f0f3-74cb-4501-89ec-db6652b0b87f",
   "metadata": {},
   "outputs": [
    {
     "name": "stdin",
     "output_type": "stream",
     "text": [
      "Enter number of items:  3\n",
      "Enter the values of the 3 item(s) in order:  24 15 25\n",
      "Enter the positive weights of the 3 item(s) in order:  15 10 18\n",
      "Enter maximum weight:  20\n"
     ]
    },
    {
     "name": "stdout",
     "output_type": "stream",
     "text": [
      "The maximum value of items that can be carried: 31.5\n",
      "The fractions in which the items should be taken: [1, 0.5, 0]\n"
     ]
    }
   ],
   "source": [
    "def fractional_knapsack(value, weight, capacity):\n",
    "    # Calculate the value-to-weight ratio for each item\n",
    "    ratio = [v / w for v, w in zip(value, weight)]\n",
    "    \n",
    "    # Create an index array and sort it based on the value-to-weight ratio in descending order\n",
    "    index = list(range(len(value)))\n",
    "    index.sort(key=lambda i: ratio[i], reverse=True) \n",
    "    \n",
    "    max_value = 0 # To store the maximum value that can be carried\n",
    "    fractions = [0] * len(value) # To store the fraction of each item to take\n",
    "    \n",
    "    for i in index:\n",
    "        # If the full item can be taken\n",
    "        if weight[i] <= capacity:\n",
    "            fractions[i] = 1 # Take the whole item\n",
    "            max_value += value[i]\n",
    "            capacity-= weight[i] # Reduce the remaining capacity\n",
    "        else:\n",
    "            # Take the fraction of the remaining capacity\n",
    "            fractions[i] = capacity / weight[i]\n",
    "            max_value += value[i] * (capacity / weight[i])\n",
    "            break # The knapsack is full now        \n",
    "    return max_value, fractions\n",
    "    \n",
    "# Input number of items\n",
    "n =int(input('Enter number of items: '))\n",
    "\n",
    "# Input values of the items\n",
    "value = input(f'Enter the values of the {n} item(s) in order: ').split()\n",
    "value = [int(v) for v in value]\n",
    " \n",
    "# Input weights of the items\n",
    "weight = input(f'Enter the positive weights of the {n} item(s) in order: ').split()\n",
    "weight = [int(w) for w in weight]\n",
    "\n",
    "# Input the maximum capacity of the knapsack\n",
    "capacity = int(input('Enter maximum weight: '))\n",
    "\n",
    "# Calculate the maximum value and the fractions to take of each item\n",
    "max_value, fractions = fractional_knapsack(value, weight, capacity)\n",
    "\n",
    "# Output the result\n",
    "print('The maximum value of items that can be carried:', max_value)\n",
    "print('The fractions in which the items should be taken:', fractions)"
   ]
  },
  {
   "cell_type": "code",
   "execution_count": null,
   "id": "ba3d8360-6361-4839-a8f5-18f46b59b63d",
   "metadata": {},
   "outputs": [],
   "source": []
  }
 ],
 "metadata": {
  "kernelspec": {
   "display_name": "Python 3 (ipykernel)",
   "language": "python",
   "name": "python3"
  },
  "language_info": {
   "codemirror_mode": {
    "name": "ipython",
    "version": 3
   },
   "file_extension": ".py",
   "mimetype": "text/x-python",
   "name": "python",
   "nbconvert_exporter": "python",
   "pygments_lexer": "ipython3",
   "version": "3.10.12"
  }
 },
 "nbformat": 4,
 "nbformat_minor": 5
}
