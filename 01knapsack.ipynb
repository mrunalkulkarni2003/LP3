{
 "cells": [
  {
   "cell_type": "code",
   "execution_count": 1,
   "id": "067a65b0-f9cd-455c-bfe4-0f600443e457",
   "metadata": {},
   "outputs": [
    {
     "name": "stdin",
     "output_type": "stream",
     "text": [
      "Enter number of items:  3\n",
      "Enter the values of the items:  60 100 120\n",
      "Enter the weights of the items:  10 20 30\n",
      "Enter the capacity of the knapsack:  50\n"
     ]
    },
    {
     "name": "stdout",
     "output_type": "stream",
     "text": [
      "The maximum value that can be carried is: 220\n"
     ]
    }
   ],
   "source": [
    "class Item:\n",
    "    def __init__(self, value, weight):\n",
    "        self.value = value\n",
    "        self.weight = weight\n",
    "        self.ratio = value / weight\n",
    "        \n",
    "class Node:\n",
    "    def __init__(self, level, profit, weight, bound):\n",
    "        self.level = level\n",
    "        self.profit = profit\n",
    "        self.weight = weight\n",
    "        self.bound = bound\n",
    "        \n",
    "def bound(node, n, capacity, items):\n",
    "    if node.weight >= capacity:\n",
    "        return 0\n",
    "        \n",
    "    profit_bound = node.profit\n",
    "    j = node.level + 1\n",
    "    total_weight = node.weight\n",
    "    \n",
    "    while j < n and total_weight + items[j].weight <= capacity:\n",
    "        total_weight += items[j].weight\n",
    "        profit_bound += items[j].value\n",
    "        j += 1\n",
    "        \n",
    "    if j < n:\n",
    "        profit_bound += (capacity- total_weight) * items[j].ratio\n",
    "        \n",
    "    return profit_bound\n",
    "    \n",
    "def knapsack(items, capacity):\n",
    "    items = sorted(items, key=lambda item: item.ratio, reverse=True)\n",
    "    queue = []\n",
    " \n",
    "    root = Node(-1, 0, 0, 0)\n",
    "    root.bound = bound(root, len(items), capacity, items)\n",
    "    queue.append(root)\n",
    "    \n",
    "    max_profit = 0\n",
    " \n",
    "    while queue:\n",
    "        node = queue.pop(0)\n",
    "        \n",
    "        if node.level ==-1:\n",
    "            next_level = 0\n",
    "        else:\n",
    "            next_level = node.level + 1\n",
    " \n",
    "        if next_level < len(items):\n",
    "            left_child = Node(next_level, node.profit + items[next_level].value,node.weight + items[next_level].weight, 0)\n",
    " \n",
    "            if left_child.weight <= capacity and left_child.profit > max_profit:\n",
    "                max_profit = left_child.profit\n",
    "            \n",
    "            left_child.bound = bound(left_child, len(items), capacity, items)\n",
    " \n",
    "            if left_child.bound > max_profit:\n",
    "                queue.append(left_child)\n",
    "\n",
    "            right_child = Node(next_level, node.profit, node.weight, 0)\n",
    "            right_child.bound = bound(right_child, len(items), capacity, items)\n",
    " \n",
    "            if right_child.bound > max_profit:\n",
    "                queue.append(right_child)\n",
    " \n",
    "    return max_profit\n",
    " \n",
    "# Input\n",
    "n =int(input(\"Enter number of items: \"))\n",
    "values = [int(x) for x in input(\"Enter the values of the items: \").split()]\n",
    "weights = [int(x) for x in input(\"Enter the weights of the items: \").split()]\n",
    "capacity = int(input(\"Enter the capacity of the knapsack: \"))\n",
    "\n",
    "items = [Item(values[i], weights[i]) for i in range(n)]\n",
    " \n",
    "# Solve 0/1 Knapsack using Branch and Bound\n",
    "max_value = knapsack(items, capacity)\n",
    " \n",
    "# Output\n",
    "print(\"The maximum value that can be carried is:\", max_value)"
   ]
  },
  {
   "cell_type": "code",
   "execution_count": null,
   "id": "a78700a1-67bf-42da-9d73-b2ee8f36dda0",
   "metadata": {},
   "outputs": [],
   "source": []
  }
 ],
 "metadata": {
  "kernelspec": {
   "display_name": "Python 3 (ipykernel)",
   "language": "python",
   "name": "python3"
  },
  "language_info": {
   "codemirror_mode": {
    "name": "ipython",
    "version": 3
   },
   "file_extension": ".py",
   "mimetype": "text/x-python",
   "name": "python",
   "nbconvert_exporter": "python",
   "pygments_lexer": "ipython3",
   "version": "3.10.12"
  }
 },
 "nbformat": 4,
 "nbformat_minor": 5
}
