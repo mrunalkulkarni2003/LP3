{
 "cells": [
  {
   "cell_type": "code",
   "execution_count": 1,
   "id": "639d2349-0569-4f24-9a4c-d2d82df67eb4",
   "metadata": {},
   "outputs": [
    {
     "name": "stdin",
     "output_type": "stream",
     "text": [
      "Enter number of terms:  6\n"
     ]
    },
    {
     "name": "stdout",
     "output_type": "stream",
     "text": [
      "Fibonacci sequence:\n",
      "0\n",
      "1\n",
      "1\n",
      "2\n",
      "3\n",
      "5\n"
     ]
    }
   ],
   "source": [
    "nterms=int(input(\"Enter number of terms: \"))\n",
    "\n",
    "#First two terms\n",
    "n1,n2 = 0,1\n",
    "count = 0\n",
    "\n",
    "#Check if the number of terms is valid\n",
    "if nterms <= 0:\n",
    "    print(\"PLease enter a positive integer\")\n",
    "elif nterms == 1:\n",
    "    print(\"Fibonacci sequence up to\",nterms,\":\")\n",
    "    print(n1)\n",
    "else:\n",
    "    print(\"Fibonacci sequence:\")\n",
    "    while count < nterms:\n",
    "        print(n1)\n",
    "        nth = n1 + n2\n",
    "        #Updated values\n",
    "        n1,n2 = n2,nth\n",
    "        count += 1"
   ]
  },
  {
   "cell_type": "code",
   "execution_count": null,
   "id": "4d776f59-a98a-426c-a51e-13b0697b4703",
   "metadata": {},
   "outputs": [],
   "source": []
  }
 ],
 "metadata": {
  "kernelspec": {
   "display_name": "Python 3 (ipykernel)",
   "language": "python",
   "name": "python3"
  },
  "language_info": {
   "codemirror_mode": {
    "name": "ipython",
    "version": 3
   },
   "file_extension": ".py",
   "mimetype": "text/x-python",
   "name": "python",
   "nbconvert_exporter": "python",
   "pygments_lexer": "ipython3",
   "version": "3.10.12"
  }
 },
 "nbformat": 4,
 "nbformat_minor": 5
}
